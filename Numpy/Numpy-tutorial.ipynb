{
 "cells": [
  {
   "cell_type": "code",
   "execution_count": 1,
   "id": "e262f043-d61d-44e8-b703-71ae4e32099d",
   "metadata": {},
   "outputs": [],
   "source": [
    "# ###\n",
    "# #NUMPY\n",
    "\n",
    "# #What is Numpy\n",
    "\n",
    "# - Numpy is a library to manage and perform calculation on n-dimension arrays.\n",
    "# - Numpy is faster than List\n",
    "# - Numpy is faster than list because it uses fixed object size. \n",
    "# - Advantdages of Numpy \n",
    "#     - each integer is 32 bit (4 byte) in numpy (more datatypes are available)\n",
    "#     - But lists need to store size, reference count, object type and value (can be 8 bytes for 1 number)\n",
    "#     - Basically numpy uses less bytes of memory \n",
    "#     - There is no type checking in numpy (as it uses homogeneous data)\n",
    "#     - List uses double hops to read data (list stores pointers to the actual object)\n",
    "#     - Numpy array uses direct reference, it stores data in contiguous memory\n",
    "#     - Using contiguous memory also helps in better caching \n",
    "#     - Both support all ops like insert delete update, but numpy support more features\n",
    "# - Application of Numpy \n",
    "#     - Support mathematics\n",
    "#     - supported by matplotlib for graph plotting\n",
    "#     - used for pandas, connect4, etc\n",
    "#     - Machine learning -> tensors "
   ]
  },
  {
   "cell_type": "code",
   "execution_count": 2,
   "id": "8964b188-b8ec-4240-8936-14ad07fae649",
   "metadata": {},
   "outputs": [
    {
     "name": "stdout",
     "output_type": "stream",
     "text": [
      "Defaulting to user installation because normal site-packages is not writeable\n",
      "Requirement already satisfied: numpy in c:\\users\\mukul.bindal\\appdata\\roaming\\python\\python312\\site-packages (1.26.2)\n",
      "Note: you may need to restart the kernel to use updated packages.\n"
     ]
    },
    {
     "name": "stderr",
     "output_type": "stream",
     "text": [
      "\n",
      "[notice] A new release of pip is available: 23.2.1 -> 23.3.2\n",
      "[notice] To update, run: python.exe -m pip install --upgrade pip\n"
     ]
    }
   ],
   "source": [
    "%pip install numpy"
   ]
  },
  {
   "cell_type": "code",
   "execution_count": 49,
   "id": "fb8185d6-ba45-4de5-8522-10d1ebf6ffac",
   "metadata": {},
   "outputs": [
    {
     "data": {
      "text/plain": [
       "array([[[ 1,  2,  3],\n",
       "        [ 4,  5,  6]],\n",
       "\n",
       "       [[ 7,  8,  9],\n",
       "        [11, 12, 13]],\n",
       "\n",
       "       [[14, 15, 16],\n",
       "        [17, 18, 19]]])"
      ]
     },
     "execution_count": 49,
     "metadata": {},
     "output_type": "execute_result"
    }
   ],
   "source": [
    "import numpy as np\n",
    "\n",
    "# Initialize array \n",
    "a = np.array([1, 2, 3])\n",
    "\n",
    "b = np.array([[1, 2, 3, 4],[5, 6, 7, 8]])\n",
    "\n",
    "c = np.array([[[1,2,3],[4,5,6]],[[7,8,9],[11,12,13]], [[14,15,16],[17,18,19]]])\n",
    "\n",
    "a\n",
    "b\n",
    "c"
   ]
  },
  {
   "cell_type": "code",
   "execution_count": 4,
   "id": "fa14d561-d840-493d-90b4-e98178a5a989",
   "metadata": {},
   "outputs": [
    {
     "data": {
      "text/plain": [
       "(1, 2, 3)"
      ]
     },
     "execution_count": 4,
     "metadata": {},
     "output_type": "execute_result"
    }
   ],
   "source": [
    "# Get the dimensions\n",
    "a.ndim, b.ndim, c.ndim"
   ]
  },
  {
   "cell_type": "code",
   "execution_count": 5,
   "id": "aed9fbde-6c4b-478c-96d7-f71fbb3a440b",
   "metadata": {},
   "outputs": [
    {
     "data": {
      "text/plain": [
       "((3,), (2, 4), (3, 2, 3))"
      ]
     },
     "execution_count": 5,
     "metadata": {},
     "output_type": "execute_result"
    }
   ],
   "source": [
    "# Get the shape of the array\n",
    "a.shape, b.shape, c.shape"
   ]
  },
  {
   "cell_type": "code",
   "execution_count": 6,
   "id": "46f09c37-80f3-4ee2-b69b-d83ebebfa45b",
   "metadata": {},
   "outputs": [
    {
     "data": {
      "text/plain": [
       "dtype('int32')"
      ]
     },
     "execution_count": 6,
     "metadata": {},
     "output_type": "execute_result"
    }
   ],
   "source": [
    "# Get datatype\n",
    "a.dtype"
   ]
  },
  {
   "cell_type": "code",
   "execution_count": 7,
   "id": "5496bdfb-e5d9-41b7-82d9-32f52a8df9bd",
   "metadata": {},
   "outputs": [
    {
     "data": {
      "text/plain": [
       "(dtype('float32'), dtype('int16'))"
      ]
     },
     "execution_count": 7,
     "metadata": {},
     "output_type": "execute_result"
    }
   ],
   "source": [
    "# Changing the datatype\n",
    "a = np.array(a, dtype='float32')\n",
    "a0 = np.array([1, 2, 3], dtype='int16')\n",
    "a.dtype, a0.dtype"
   ]
  },
  {
   "cell_type": "code",
   "execution_count": 8,
   "id": "628813b1-135a-45a3-9226-1ab8b83a4974",
   "metadata": {},
   "outputs": [
    {
     "data": {
      "text/plain": [
       "(4, 2)"
      ]
     },
     "execution_count": 8,
     "metadata": {},
     "output_type": "execute_result"
    }
   ],
   "source": [
    "# Size of one element of array in bytes\n",
    "a.itemsize, a0.itemsize\n"
   ]
  },
  {
   "cell_type": "code",
   "execution_count": 9,
   "id": "0788f992-9fb1-4885-a22f-9b90affcdfde",
   "metadata": {},
   "outputs": [
    {
     "data": {
      "text/plain": [
       "(3, 8, 18)"
      ]
     },
     "execution_count": 9,
     "metadata": {},
     "output_type": "execute_result"
    }
   ],
   "source": [
    "# Number of elements in the array\n",
    "a.size, b.size, c.size"
   ]
  },
  {
   "cell_type": "code",
   "execution_count": 10,
   "id": "9683472a-813e-485f-8897-865e9560a83a",
   "metadata": {},
   "outputs": [
    {
     "data": {
      "text/plain": [
       "(12, 72)"
      ]
     },
     "execution_count": 10,
     "metadata": {},
     "output_type": "execute_result"
    }
   ],
   "source": [
    "# Total memory occupied by the array in bytes\n",
    "a.itemsize * a.size, c.itemsize * c.size"
   ]
  },
  {
   "cell_type": "code",
   "execution_count": 11,
   "id": "11f571a7-9e24-414e-8170-0ae0aa94e675",
   "metadata": {},
   "outputs": [
    {
     "data": {
      "text/plain": [
       "(12, 72)"
      ]
     },
     "execution_count": 11,
     "metadata": {},
     "output_type": "execute_result"
    }
   ],
   "source": [
    "# Total memory occupied by the array in bytes\n",
    "a.nbytes, c.nbytes"
   ]
  },
  {
   "cell_type": "markdown",
   "id": "e1687270-6c90-48d3-ae44-b7817b6f30ad",
   "metadata": {},
   "source": [
    "### Accessing / Changing Elements"
   ]
  },
  {
   "cell_type": "code",
   "execution_count": 12,
   "id": "8ca24bac-e1c4-4981-b57b-5d94f83c05f7",
   "metadata": {},
   "outputs": [],
   "source": [
    "# Numpy supports a[startindex:endindex:step] to fetch data from [startindex, endindex)  <-- endindex exclusive\n",
    "# a[row, col] to access a specific element in the 2d - array\n",
    "# Note that in all below examples, we will use 0 based indexing"
   ]
  },
  {
   "cell_type": "code",
   "execution_count": 50,
   "id": "fcc78034-ee5e-4586-a813-ddbe2aaeec66",
   "metadata": {},
   "outputs": [
    {
     "data": {
      "text/plain": [
       "array([[ 1,  2,  3,  4,  5],\n",
       "       [ 4,  5,  6,  7,  8],\n",
       "       [ 7,  8,  9, 10, 11],\n",
       "       [12, 14, 15, 16, 17],\n",
       "       [ 8,  3,  2,  1,  4]])"
      ]
     },
     "execution_count": 50,
     "metadata": {},
     "output_type": "execute_result"
    }
   ],
   "source": [
    "# Consider below array which is 5*5\n",
    "a = np.array([[1, 2, 3, 4, 5],[4, 5, 6, 7, 8],[7, 8, 9, 10, 11], [12, 14, 15, 16, 17], [8, 3, 2, 1, 4]])\n",
    "a"
   ]
  },
  {
   "cell_type": "code",
   "execution_count": 14,
   "id": "44fa7390-6c9f-4ddf-93c7-042fac55ac32",
   "metadata": {},
   "outputs": [
    {
     "data": {
      "text/plain": [
       "10"
      ]
     },
     "execution_count": 14,
     "metadata": {},
     "output_type": "execute_result"
    }
   ],
   "source": [
    "# Get 2nd row 3rd column\n",
    "a[2, 3]"
   ]
  },
  {
   "cell_type": "code",
   "execution_count": 15,
   "id": "b0472760-46fc-4bb7-9c67-c947eee6271e",
   "metadata": {},
   "outputs": [
    {
     "data": {
      "text/plain": [
       "array([ 4,  7, 10, 16,  1])"
      ]
     },
     "execution_count": 15,
     "metadata": {},
     "output_type": "execute_result"
    }
   ],
   "source": [
    "# Get all elements of 3rd column\n",
    "a[:, 3]    # means from all rows, choose 3rd column "
   ]
  },
  {
   "cell_type": "code",
   "execution_count": 16,
   "id": "2c5289c7-a418-420e-be3e-565814620953",
   "metadata": {},
   "outputs": [
    {
     "data": {
      "text/plain": [
       "array([ 7,  8,  9, 10, 11])"
      ]
     },
     "execution_count": 16,
     "metadata": {},
     "output_type": "execute_result"
    }
   ],
   "source": [
    "# Get the 2nd row\n",
    "a[2, :] # all columns from 2nd row. \n",
    "a[2]  # Note that a[2] is same as a[2, :] means if we need all elements in last dimension - no need to specify\n"
   ]
  },
  {
   "cell_type": "code",
   "execution_count": 17,
   "id": "31771ea7-189c-4d5a-851e-8d32452d06d2",
   "metadata": {},
   "outputs": [
    {
     "data": {
      "text/plain": [
       "array([[ 6,  7],\n",
       "       [ 9, 10],\n",
       "       [15, 16]])"
      ]
     },
     "execution_count": 17,
     "metadata": {},
     "output_type": "execute_result"
    }
   ],
   "source": [
    "# Get the submatrix starting at 1, 2 and ending at 3, 3\n",
    "# Means we need to get rows from 1 to 3 inclusive and columns from 2 to 3 inclusive\n",
    "# For the inclusive index, we need to add 1 to include it\n",
    "a[1:4, 2:4]"
   ]
  },
  {
   "cell_type": "code",
   "execution_count": 18,
   "id": "85c5b596-12ff-4b6a-95cc-d6caf5a51f81",
   "metadata": {},
   "outputs": [
    {
     "data": {
      "text/plain": [
       "array([ 4, 10,  1])"
      ]
     },
     "execution_count": 18,
     "metadata": {},
     "output_type": "execute_result"
    }
   ],
   "source": [
    "# We can also include steps -\n",
    "# Get all the elements in 3rd column at even row numbers (0, 2, 4)\n",
    "a[::2, 3]   # all rows with 2 step, 3rd col"
   ]
  },
  {
   "cell_type": "code",
   "execution_count": 19,
   "id": "5ea1db57-ee1b-4a29-a282-d8a6a38dbfe4",
   "metadata": {},
   "outputs": [
    {
     "data": {
      "text/plain": [
       "18"
      ]
     },
     "execution_count": 19,
     "metadata": {},
     "output_type": "execute_result"
    }
   ],
   "source": [
    "# For 3-d array we need to use 3 indices -\n",
    "c[2, 1, 1]"
   ]
  },
  {
   "cell_type": "markdown",
   "id": "c56ca0b8-0f86-4ea7-94c4-74a4c37659d2",
   "metadata": {},
   "source": [
    "### Initializing different types of arrays"
   ]
  },
  {
   "cell_type": "code",
   "execution_count": 20,
   "id": "c839c34f-f896-4f13-bad9-9e5f4b56e55a",
   "metadata": {},
   "outputs": [
    {
     "data": {
      "text/plain": [
       "array([[[0., 0., 0., 0.],\n",
       "        [0., 0., 0., 0.],\n",
       "        [0., 0., 0., 0.]],\n",
       "\n",
       "       [[0., 0., 0., 0.],\n",
       "        [0., 0., 0., 0.],\n",
       "        [0., 0., 0., 0.]]])"
      ]
     },
     "execution_count": 20,
     "metadata": {},
     "output_type": "execute_result"
    }
   ],
   "source": [
    "# All 0's matrix\n",
    "np.zeros((2, 3, 4))"
   ]
  },
  {
   "cell_type": "code",
   "execution_count": 21,
   "id": "003c9d15-1f9f-4daf-a71f-c174b4a00a59",
   "metadata": {},
   "outputs": [
    {
     "data": {
      "text/plain": [
       "array([[[0., 0., 0., 0.],\n",
       "        [0., 0., 0., 0.],\n",
       "        [0., 0., 0., 0.]],\n",
       "\n",
       "       [[0., 0., 0., 0.],\n",
       "        [0., 0., 0., 0.],\n",
       "        [0., 0., 0., 0.]]], dtype=float32)"
      ]
     },
     "execution_count": 21,
     "metadata": {},
     "output_type": "execute_result"
    }
   ],
   "source": [
    "np.zeros((2, 3, 4), dtype='float32')"
   ]
  },
  {
   "cell_type": "code",
   "execution_count": 22,
   "id": "99611d82-2067-4a85-8a3e-ed8697ef9207",
   "metadata": {},
   "outputs": [
    {
     "data": {
      "text/plain": [
       "array([[1., 1., 1., 1.],\n",
       "       [1., 1., 1., 1.],\n",
       "       [1., 1., 1., 1.]])"
      ]
     },
     "execution_count": 22,
     "metadata": {},
     "output_type": "execute_result"
    }
   ],
   "source": [
    "#All 1's array\n",
    "np.ones((3, 4))"
   ]
  },
  {
   "cell_type": "code",
   "execution_count": 23,
   "id": "be2bddd1-f382-4330-8817-d190d9a58692",
   "metadata": {},
   "outputs": [
    {
     "data": {
      "text/plain": [
       "array([[56, 56, 56, 56, 56],\n",
       "       [56, 56, 56, 56, 56],\n",
       "       [56, 56, 56, 56, 56],\n",
       "       [56, 56, 56, 56, 56]])"
      ]
     },
     "execution_count": 23,
     "metadata": {},
     "output_type": "execute_result"
    }
   ],
   "source": [
    "# Array of a specific number -\n",
    "# Get array of all 56s\n",
    "np.full((4, 5), 56, dtype='int32')\n",
    "# Note that datatype is optional"
   ]
  },
  {
   "cell_type": "code",
   "execution_count": 24,
   "id": "7b507414-7703-47f0-b7ae-0c9ea6414a42",
   "metadata": {},
   "outputs": [
    {
     "data": {
      "text/plain": [
       "array([[5, 5, 5, 5, 5],\n",
       "       [5, 5, 5, 5, 5],\n",
       "       [5, 5, 5, 5, 5],\n",
       "       [5, 5, 5, 5, 5],\n",
       "       [5, 5, 5, 5, 5]])"
      ]
     },
     "execution_count": 24,
     "metadata": {},
     "output_type": "execute_result"
    }
   ],
   "source": [
    "# Creating a masking like array\n",
    "# Suppose we want to create an array of same shape of an existing array, just all 0's or all other kind of elements\n",
    "np.full(a.shape, 5)"
   ]
  },
  {
   "cell_type": "code",
   "execution_count": 25,
   "id": "3af3c1ec-b9af-4daa-8ba1-f8f2ec43484e",
   "metadata": {},
   "outputs": [
    {
     "data": {
      "text/plain": [
       "array([[3, 3, 3, 3, 3],\n",
       "       [3, 3, 3, 3, 3],\n",
       "       [3, 3, 3, 3, 3],\n",
       "       [3, 3, 3, 3, 3],\n",
       "       [3, 3, 3, 3, 3]])"
      ]
     },
     "execution_count": 25,
     "metadata": {},
     "output_type": "execute_result"
    }
   ],
   "source": [
    "# Inbuilt function\n",
    "np.full_like(a, 3)"
   ]
  },
  {
   "cell_type": "code",
   "execution_count": 26,
   "id": "c569fa98-ac58-490a-99d2-94a6ff5d8d96",
   "metadata": {},
   "outputs": [
    {
     "data": {
      "text/plain": [
       "array([[0.04484643, 0.77568544, 0.7416517 , 0.45596751],\n",
       "       [0.63927014, 0.55804263, 0.18588722, 0.84125013],\n",
       "       [0.89329006, 0.22823369, 0.16377902, 0.4112132 ]])"
      ]
     },
     "execution_count": 26,
     "metadata": {},
     "output_type": "execute_result"
    }
   ],
   "source": [
    "# Random decimal numbers\n",
    "np.random.rand(3, 4)   # Note that we passed normal integer for shape, not a tuple"
   ]
  },
  {
   "cell_type": "code",
   "execution_count": 27,
   "id": "807ea8ce-b96e-4bb6-8ca1-c63efa8cc87f",
   "metadata": {},
   "outputs": [
    {
     "data": {
      "text/plain": [
       "array([[0.87715388, 0.01674094, 0.74357042, 0.50287802, 0.93459749],\n",
       "       [0.56494741, 0.77808608, 0.41660879, 0.64780419, 0.53756741],\n",
       "       [0.28277423, 0.18945905, 0.72163711, 0.97031142, 0.82827233],\n",
       "       [0.93093982, 0.85412736, 0.01969805, 0.92054805, 0.25156018],\n",
       "       [0.19096279, 0.39563744, 0.626165  , 0.18280718, 0.44410337]])"
      ]
     },
     "execution_count": 27,
     "metadata": {},
     "output_type": "execute_result"
    }
   ],
   "source": [
    "# Creating array from shape of other array\n",
    "np.random.random_sample(a.shape)"
   ]
  },
  {
   "cell_type": "code",
   "execution_count": 28,
   "id": "d7c68dc2-8335-460f-a870-7edcba8f5f23",
   "metadata": {},
   "outputs": [
    {
     "data": {
      "text/plain": [
       "array([[6, 1, 1, 2, 3],\n",
       "       [6, 1, 0, 3, 4],\n",
       "       [2, 0, 6, 3, 5],\n",
       "       [0, 1, 1, 0, 1]])"
      ]
     },
     "execution_count": 28,
     "metadata": {},
     "output_type": "execute_result"
    }
   ],
   "source": [
    "# Random Integer values\n",
    "## Need to pass range like params, then size \n",
    "# Generate random values of 4x5 with elements in range 0 to 7 exclusive\n",
    "np.random.randint(7, size=(4, 5))  "
   ]
  },
  {
   "cell_type": "code",
   "execution_count": 29,
   "id": "54c1463b-d2a8-4c99-91ac-ce5f454813ef",
   "metadata": {},
   "outputs": [
    {
     "data": {
      "text/plain": [
       "array([[ 5,  2,  6],\n",
       "       [ 4, -6,  2],\n",
       "       [-4,  5,  1],\n",
       "       [ 4,  6, -1],\n",
       "       [ 1,  4,  6]])"
      ]
     },
     "execution_count": 29,
     "metadata": {},
     "output_type": "execute_result"
    }
   ],
   "source": [
    "# Get random array of integers of size 5x3 with elements in range -6 to +6 inclusive\n",
    "np.random.randint(-6, 7, size=(5, 3))"
   ]
  },
  {
   "cell_type": "code",
   "execution_count": 30,
   "id": "2752eaba-fa1c-4616-b92a-cdfeb3f349e4",
   "metadata": {},
   "outputs": [
    {
     "data": {
      "text/plain": [
       "array([[1., 0., 0., 0., 0.],\n",
       "       [0., 1., 0., 0., 0.],\n",
       "       [0., 0., 1., 0., 0.],\n",
       "       [0., 0., 0., 1., 0.],\n",
       "       [0., 0., 0., 0., 1.]])"
      ]
     },
     "execution_count": 30,
     "metadata": {},
     "output_type": "execute_result"
    }
   ],
   "source": [
    "# Generate identity matrix\n",
    "# Identity matrix of 5*5\n",
    "np.identity(5)"
   ]
  },
  {
   "cell_type": "code",
   "execution_count": 32,
   "id": "346f13b4-70fd-4718-8310-711c367781eb",
   "metadata": {},
   "outputs": [
    {
     "data": {
      "text/plain": [
       "array([1, 1, 1, 2, 2, 2, 3, 3, 3])"
      ]
     },
     "execution_count": 32,
     "metadata": {},
     "output_type": "execute_result"
    }
   ],
   "source": [
    "# Creating array from repeated arr / elements\n",
    "arr = np.array([1, 2, 3])\n",
    "np.repeat(arr, 3)"
   ]
  },
  {
   "cell_type": "code",
   "execution_count": 36,
   "id": "4f7db9f4-6d7a-45c0-8edf-cc0782d8a622",
   "metadata": {},
   "outputs": [
    {
     "data": {
      "text/plain": [
       "array([[1, 2, 3],\n",
       "       [1, 2, 3],\n",
       "       [1, 2, 3]])"
      ]
     },
     "execution_count": 36,
     "metadata": {},
     "output_type": "execute_result"
    }
   ],
   "source": [
    "arr = np.array([[1, 2, 3]])\n",
    "np.repeat(arr, 3, axis=0)   ## Repeat on 0th axis"
   ]
  },
  {
   "cell_type": "code",
   "execution_count": 39,
   "id": "d667554a-37ea-4eba-8893-ac46bcf956e3",
   "metadata": {},
   "outputs": [
    {
     "data": {
      "text/plain": [
       "array([[1., 1., 1., 1., 1.],\n",
       "       [1., 0., 0., 0., 1.],\n",
       "       [1., 0., 9., 0., 1.],\n",
       "       [1., 0., 0., 0., 1.],\n",
       "       [1., 1., 1., 1., 1.]])"
      ]
     },
     "execution_count": 39,
     "metadata": {},
     "output_type": "execute_result"
    }
   ],
   "source": [
    "# Create an array with below data\n",
    "# 1 1 1 1 1\n",
    "# 1 0 0 0 1\n",
    "# 1 0 9 0 1\n",
    "# 1 0 0 0 1\n",
    "# 1 1 1 1 1\n",
    "\n",
    "# Steps:\n",
    "# - Create 5x5 array with all 1s\n",
    "# - Create 3x3 array with all 0s\n",
    "# - make the middle element as 9\n",
    "# - assign this to the submatrix of 1s array\n",
    "\n",
    "arr = np.ones((5, 5))\n",
    "zeros = np.zeros((3, 3))\n",
    "zeros[1, 1] = 9\n",
    "arr[1:4, 1:4] = zeros     # Note that we need to mention the entire submatrix\n",
    "arr"
   ]
  },
  {
   "cell_type": "code",
   "execution_count": 41,
   "id": "e40c7b32-8086-4990-9b94-3223971ac989",
   "metadata": {},
   "outputs": [
    {
     "data": {
      "text/plain": [
       "array([[ 1,  2,  3,  4,  5],\n",
       "       [ 4,  5,  6,  7,  8],\n",
       "       [ 7,  8,  9, 10, 11],\n",
       "       [12, 14, 15, 16, 17],\n",
       "       [ 8,  3,  2,  1,  4]])"
      ]
     },
     "execution_count": 41,
     "metadata": {},
     "output_type": "execute_result"
    }
   ],
   "source": [
    "# Copy the array\n",
    "arr = a.copy()\n",
    "arr"
   ]
  },
  {
   "cell_type": "markdown",
   "id": "146d7bc9-4a6f-4fa0-9085-5733c24d00ab",
   "metadata": {},
   "source": [
    "### Mathematics"
   ]
  },
  {
   "cell_type": "code",
   "execution_count": 61,
   "id": "0bdde621-725c-48b5-b62f-05cd349bf5d5",
   "metadata": {},
   "outputs": [
    {
     "data": {
      "text/plain": [
       "array([[1, 2, 3],\n",
       "       [4, 5, 6],\n",
       "       [7, 8, 9]])"
      ]
     },
     "execution_count": 61,
     "metadata": {},
     "output_type": "execute_result"
    }
   ],
   "source": [
    "arr = a[:3,:3].copy()\n",
    "arr"
   ]
  },
  {
   "cell_type": "code",
   "execution_count": null,
   "id": "b3744000-0ea0-4bac-88a8-f6e9c1db4474",
   "metadata": {},
   "outputs": [],
   "source": [
    "# Using +, -, *, %, ** will perform the operation on all elements\n",
    "# arr + 3 will add 3 to all elements\n",
    "# Note that after arithmetic operation , new array will be returned, no change in the original array"
   ]
  },
  {
   "cell_type": "code",
   "execution_count": 56,
   "id": "81895b9b-a508-42d3-bb84-7015f874dea3",
   "metadata": {},
   "outputs": [
    {
     "data": {
      "text/plain": [
       "array([[ 4,  5,  6],\n",
       "       [ 7,  8,  9],\n",
       "       [10, 11, 12]])"
      ]
     },
     "execution_count": 56,
     "metadata": {},
     "output_type": "execute_result"
    }
   ],
   "source": [
    "arr + 3"
   ]
  },
  {
   "cell_type": "code",
   "execution_count": 57,
   "id": "c63b0494-e67a-4610-9831-d4a24b2663df",
   "metadata": {},
   "outputs": [
    {
     "data": {
      "text/plain": [
       "array([[-2, -1,  0],\n",
       "       [ 1,  2,  3],\n",
       "       [ 4,  5,  6]])"
      ]
     },
     "execution_count": 57,
     "metadata": {},
     "output_type": "execute_result"
    }
   ],
   "source": [
    "arr - 3"
   ]
  },
  {
   "cell_type": "code",
   "execution_count": 58,
   "id": "482f39eb-0ad8-4992-b5d9-dbfb6c1df4ca",
   "metadata": {},
   "outputs": [
    {
     "data": {
      "text/plain": [
       "array([[ 2,  4,  6],\n",
       "       [ 8, 10, 12],\n",
       "       [14, 16, 18]])"
      ]
     },
     "execution_count": 58,
     "metadata": {},
     "output_type": "execute_result"
    }
   ],
   "source": [
    "arr * 2"
   ]
  },
  {
   "cell_type": "code",
   "execution_count": 59,
   "id": "ae90cf4e-5c18-4b73-b2bf-160714c4410e",
   "metadata": {},
   "outputs": [
    {
     "data": {
      "text/plain": [
       "array([[0.5, 1. , 1.5],\n",
       "       [2. , 2.5, 3. ],\n",
       "       [3.5, 4. , 4.5]])"
      ]
     },
     "execution_count": 59,
     "metadata": {},
     "output_type": "execute_result"
    }
   ],
   "source": [
    "arr / 2"
   ]
  },
  {
   "cell_type": "code",
   "execution_count": 60,
   "id": "1ec8376d-caeb-459c-8122-34d50e976127",
   "metadata": {},
   "outputs": [
    {
     "data": {
      "text/plain": [
       "array([[ 1,  4,  9],\n",
       "       [16, 25, 36],\n",
       "       [49, 64, 81]])"
      ]
     },
     "execution_count": 60,
     "metadata": {},
     "output_type": "execute_result"
    }
   ],
   "source": [
    "arr ** 2"
   ]
  },
  {
   "cell_type": "code",
   "execution_count": 62,
   "id": "07cb9835-6072-40d9-8b24-4bc67a965ed2",
   "metadata": {},
   "outputs": [
    {
     "data": {
      "text/plain": [
       "array([[1, 0, 1],\n",
       "       [0, 1, 0],\n",
       "       [1, 0, 1]], dtype=int32)"
      ]
     },
     "execution_count": 62,
     "metadata": {},
     "output_type": "execute_result"
    }
   ],
   "source": [
    "arr % 2"
   ]
  },
  {
   "cell_type": "code",
   "execution_count": 67,
   "id": "dec7a98e-dc82-4eae-ab77-f5b2c249df18",
   "metadata": {},
   "outputs": [
    {
     "data": {
      "text/plain": [
       "(array([[1, 2, 3],\n",
       "        [4, 5, 6],\n",
       "        [7, 8, 9]]),\n",
       " array([[ 5,  6,  7],\n",
       "        [ 8,  9, 10],\n",
       "        [14, 15, 16]]))"
      ]
     },
     "execution_count": 67,
     "metadata": {},
     "output_type": "execute_result"
    }
   ],
   "source": [
    "Array operations -\n",
    "    Using arithmetic operations on two similar arrays will perform the element wise mathematics\n",
    "\n",
    "brr = a[1:4, 1:4].copy()\n",
    "arr, brr"
   ]
  },
  {
   "cell_type": "code",
   "execution_count": 68,
   "id": "051bdf07-069d-44a4-8c73-b7f293f3a180",
   "metadata": {},
   "outputs": [
    {
     "data": {
      "text/plain": [
       "array([[ 6,  8, 10],\n",
       "       [12, 14, 16],\n",
       "       [21, 23, 25]])"
      ]
     },
     "execution_count": 68,
     "metadata": {},
     "output_type": "execute_result"
    }
   ],
   "source": [
    "arr + brr"
   ]
  },
  {
   "cell_type": "code",
   "execution_count": 69,
   "id": "320d32d9-a58e-431d-ae78-43f8befade85",
   "metadata": {},
   "outputs": [
    {
     "data": {
      "text/plain": [
       "array([[4, 4, 4],\n",
       "       [4, 4, 4],\n",
       "       [7, 7, 7]])"
      ]
     },
     "execution_count": 69,
     "metadata": {},
     "output_type": "execute_result"
    }
   ],
   "source": [
    "brr - arr"
   ]
  },
  {
   "cell_type": "code",
   "execution_count": 70,
   "id": "5d0b6ad3-2836-456b-953d-7b41e3036e95",
   "metadata": {},
   "outputs": [
    {
     "data": {
      "text/plain": [
       "array([[  5,  12,  21],\n",
       "       [ 32,  45,  60],\n",
       "       [ 98, 120, 144]])"
      ]
     },
     "execution_count": 70,
     "metadata": {},
     "output_type": "execute_result"
    }
   ],
   "source": [
    "arr * brr"
   ]
  },
  {
   "cell_type": "code",
   "execution_count": 72,
   "id": "9da14ff7-ce10-4b0b-a471-0767af59bbfd",
   "metadata": {},
   "outputs": [
    {
     "data": {
      "text/plain": [
       "(array([[1, 2, 3],\n",
       "        [4, 5, 6],\n",
       "        [7, 8, 9]]),\n",
       " array([ 8, 11, 17]))"
      ]
     },
     "execution_count": 72,
     "metadata": {},
     "output_type": "execute_result"
    }
   ],
   "source": [
    "crr = a[1:4, 4].copy()\n",
    "arr, crr"
   ]
  },
  {
   "cell_type": "code",
   "execution_count": 74,
   "id": "7346da84-45b8-4c94-81ce-9ad3e1fd707d",
   "metadata": {},
   "outputs": [
    {
     "data": {
      "text/plain": [
       "array([[ 9, 13, 20],\n",
       "       [12, 16, 23],\n",
       "       [15, 19, 26]])"
      ]
     },
     "execution_count": 74,
     "metadata": {},
     "output_type": "execute_result"
    }
   ],
   "source": [
    "arr + crr     ## Adds the crr row in all the rows of arr"
   ]
  },
  {
   "cell_type": "code",
   "execution_count": 76,
   "id": "4ee1ad7e-a95a-4db4-bb3f-8cb163493740",
   "metadata": {},
   "outputs": [
    {
     "data": {
      "text/plain": [
       "(array([[1, 2, 3],\n",
       "        [4, 5, 6],\n",
       "        [7, 8, 9]]),\n",
       " array([[ 7],\n",
       "        [10],\n",
       "        [16]]))"
      ]
     },
     "execution_count": 76,
     "metadata": {},
     "output_type": "execute_result"
    }
   ],
   "source": [
    "drr = a[1:4, 3:4].copy()\n",
    "arr, drr"
   ]
  },
  {
   "cell_type": "code",
   "execution_count": 77,
   "id": "4ee27f9e-d313-4b0c-8158-65cafcfb693c",
   "metadata": {},
   "outputs": [
    {
     "data": {
      "text/plain": [
       "array([[ 8,  9, 10],\n",
       "       [14, 15, 16],\n",
       "       [23, 24, 25]])"
      ]
     },
     "execution_count": 77,
     "metadata": {},
     "output_type": "execute_result"
    }
   ],
   "source": [
    "arr + drr    # drr is a column, so all the colums of arr will be added by drr"
   ]
  },
  {
   "cell_type": "code",
   "execution_count": 81,
   "id": "cb20b22d-0402-4fbc-9e71-3361ecf92a75",
   "metadata": {},
   "outputs": [
    {
     "data": {
      "text/plain": [
       "(array([[1, 2, 3],\n",
       "        [4, 5, 6],\n",
       "        [7, 8, 9]]),\n",
       " array([[ 6,  7],\n",
       "        [ 9, 10],\n",
       "        [15, 16]]))"
      ]
     },
     "execution_count": 81,
     "metadata": {},
     "output_type": "execute_result"
    }
   ],
   "source": [
    "# maths with odd shape - Note that only logically correct operations can be performed\n",
    "p = arr.copy()\n",
    "q = a[1:4, 2:4].copy()\n",
    "p, q"
   ]
  },
  {
   "cell_type": "code",
   "execution_count": 82,
   "id": "cf0b9681-d9c4-4777-b073-c924b816d8e7",
   "metadata": {},
   "outputs": [
    {
     "ename": "ValueError",
     "evalue": "operands could not be broadcast together with shapes (3,3) (3,2) ",
     "output_type": "error",
     "traceback": [
      "\u001b[1;31m---------------------------------------------------------------------------\u001b[0m",
      "\u001b[1;31mValueError\u001b[0m                                Traceback (most recent call last)",
      "Cell \u001b[1;32mIn[82], line 1\u001b[0m\n\u001b[1;32m----> 1\u001b[0m \u001b[43mp\u001b[49m\u001b[43m \u001b[49m\u001b[38;5;241;43m+\u001b[39;49m\u001b[43m \u001b[49m\u001b[43mq\u001b[49m\n",
      "\u001b[1;31mValueError\u001b[0m: operands could not be broadcast together with shapes (3,3) (3,2) "
     ]
    }
   ],
   "source": [
    "p + q   # This operation is not logical, hence invalid, if one axis has same size, other should be either same, or 1"
   ]
  },
  {
   "cell_type": "code",
   "execution_count": 83,
   "id": "d7b88f46-43b8-4298-9c77-38d5cbdd588f",
   "metadata": {},
   "outputs": [
    {
     "data": {
      "text/plain": [
       "array([[ 0.84147098,  0.90929743,  0.14112001],\n",
       "       [-0.7568025 , -0.95892427, -0.2794155 ],\n",
       "       [ 0.6569866 ,  0.98935825,  0.41211849]])"
      ]
     },
     "execution_count": 83,
     "metadata": {},
     "output_type": "execute_result"
    }
   ],
   "source": [
    "# sin, cosine etc\n",
    "np.sin(arr)"
   ]
  },
  {
   "cell_type": "code",
   "execution_count": 87,
   "id": "b180cd29-b2fb-46c6-a442-924e2dd41c60",
   "metadata": {},
   "outputs": [
    {
     "data": {
      "text/plain": [
       "array([[ 0.54030231, -0.41614684, -0.9899925 ],\n",
       "       [-0.65364362,  0.28366219,  0.96017029],\n",
       "       [ 0.75390225, -0.14550003, -0.91113026]])"
      ]
     },
     "execution_count": 87,
     "metadata": {},
     "output_type": "execute_result"
    }
   ],
   "source": [
    "np.cos(arr)"
   ]
  },
  {
   "cell_type": "code",
   "execution_count": 85,
   "id": "3ef1ad90-45b2-43f7-bfc7-beee481cd8d6",
   "metadata": {},
   "outputs": [
    {
     "data": {
      "text/plain": [
       "array([[ 1.55740772, -2.18503986, -0.14254654],\n",
       "       [ 1.15782128, -3.38051501, -0.29100619],\n",
       "       [ 0.87144798, -6.79971146, -0.45231566]])"
      ]
     },
     "execution_count": 85,
     "metadata": {},
     "output_type": "execute_result"
    }
   ],
   "source": [
    "np.tan(arr)"
   ]
  },
  {
   "cell_type": "markdown",
   "id": "65eeca4f-2a19-423d-bba1-47e5326cb29f",
   "metadata": {},
   "source": [
    "### Linear Algebra "
   ]
  },
  {
   "cell_type": "code",
   "execution_count": 90,
   "id": "828e75f6-8043-4e83-b615-80ae848b7096",
   "metadata": {},
   "outputs": [
    {
     "data": {
      "text/plain": [
       "(array([[1, 2, 4],\n",
       "        [2, 4, 3]]),\n",
       " array([[1, 2],\n",
       "        [4, 2],\n",
       "        [4, 3]]))"
      ]
     },
     "execution_count": 90,
     "metadata": {},
     "output_type": "execute_result"
    }
   ],
   "source": [
    "# Performing dot product\n",
    "# Note that col of first matrix should be equal to rows of second matrix\n",
    "\n",
    "p = np.array([[1, 2, 4], [2, 4, 3]])\n",
    "q = np.array([[1, 2], [4, 2], [4, 3]])\n",
    "p, q"
   ]
  },
  {
   "cell_type": "code",
   "execution_count": 95,
   "id": "064adecf-0488-480f-a24a-0f12459b43ca",
   "metadata": {},
   "outputs": [
    {
     "data": {
      "text/plain": [
       "array([[25, 18],\n",
       "       [30, 21]])"
      ]
     },
     "execution_count": 95,
     "metadata": {},
     "output_type": "execute_result"
    }
   ],
   "source": [
    "r = p.dot(q)\n",
    "r"
   ]
  },
  {
   "cell_type": "code",
   "execution_count": 97,
   "id": "1b5132f9-3f09-4de6-ba88-574dde750343",
   "metadata": {},
   "outputs": [
    {
     "data": {
      "text/plain": [
       "-15.0"
      ]
     },
     "execution_count": 97,
     "metadata": {},
     "output_type": "execute_result"
    }
   ],
   "source": [
    "# Compute determinant of square matrix\n",
    "np.linalg.det(r)"
   ]
  },
  {
   "cell_type": "markdown",
   "id": "9da762a1-8666-402d-84df-bba6e9b7cd16",
   "metadata": {},
   "source": [
    "### Statistics"
   ]
  },
  {
   "cell_type": "code",
   "execution_count": 98,
   "id": "d2318b4f-4a27-4191-8ebe-0eb5b421fdf7",
   "metadata": {},
   "outputs": [
    {
     "data": {
      "text/plain": [
       "array([[1, 2, 4],\n",
       "       [4, 5, 6]])"
      ]
     },
     "execution_count": 98,
     "metadata": {},
     "output_type": "execute_result"
    }
   ],
   "source": [
    "stats = np.array([[1, 2, 4], [4, 5, 6]])\n",
    "stats\n"
   ]
  },
  {
   "cell_type": "code",
   "execution_count": 99,
   "id": "f7e45c1c-3473-43ba-a17f-228d1392ba96",
   "metadata": {},
   "outputs": [
    {
     "data": {
      "text/plain": [
       "(1, 6)"
      ]
     },
     "execution_count": 99,
     "metadata": {},
     "output_type": "execute_result"
    }
   ],
   "source": [
    "# Min / Max of whole matrix\n",
    "np.min(stats), np.max(stats)  "
   ]
  },
  {
   "cell_type": "code",
   "execution_count": 100,
   "id": "a64a31ef-0aa0-4578-87f5-727f42143f1a",
   "metadata": {},
   "outputs": [
    {
     "data": {
      "text/plain": [
       "array([1, 2, 4])"
      ]
     },
     "execution_count": 100,
     "metadata": {},
     "output_type": "execute_result"
    }
   ],
   "source": [
    "# Min of array column wise\n",
    "np.min(stats, axis = 0)"
   ]
  },
  {
   "cell_type": "code",
   "execution_count": 101,
   "id": "2d7aedce-cf50-4698-93a3-79554d2dc09a",
   "metadata": {},
   "outputs": [
    {
     "data": {
      "text/plain": [
       "array([4, 5, 6])"
      ]
     },
     "execution_count": 101,
     "metadata": {},
     "output_type": "execute_result"
    }
   ],
   "source": [
    "# Max of array, column wise\n",
    "np.max(stats, axis=0)"
   ]
  },
  {
   "cell_type": "code",
   "execution_count": 102,
   "id": "c5a6bd8d-4aff-4206-aa23-6b3fb9456867",
   "metadata": {},
   "outputs": [
    {
     "data": {
      "text/plain": [
       "array([4, 6])"
      ]
     },
     "execution_count": 102,
     "metadata": {},
     "output_type": "execute_result"
    }
   ],
   "source": [
    "# Max of array, row wise\n",
    "np.max(stats, axis=1)"
   ]
  },
  {
   "cell_type": "code",
   "execution_count": 103,
   "id": "d5146341-99b2-4bd4-92b9-60b8bb88a954",
   "metadata": {},
   "outputs": [
    {
     "data": {
      "text/plain": [
       "22"
      ]
     },
     "execution_count": 103,
     "metadata": {},
     "output_type": "execute_result"
    }
   ],
   "source": [
    "# Sum of whole array\n",
    "np.sum(stats)\n"
   ]
  },
  {
   "cell_type": "code",
   "execution_count": 105,
   "id": "666141bf-3e79-4b62-8b00-838bff9e86dd",
   "metadata": {},
   "outputs": [
    {
     "data": {
      "text/plain": [
       "array([ 5,  7, 10])"
      ]
     },
     "execution_count": 105,
     "metadata": {},
     "output_type": "execute_result"
    }
   ],
   "source": [
    "# Column wise sum\n",
    "np.sum(stats, axis=0)"
   ]
  },
  {
   "cell_type": "markdown",
   "id": "c4fc0c32-eb1a-4303-9126-385c482f8795",
   "metadata": {},
   "source": [
    "### Re-organizing the arrays"
   ]
  },
  {
   "cell_type": "code",
   "execution_count": 106,
   "id": "613261c3-d590-4a2a-9052-a930f64dfc38",
   "metadata": {},
   "outputs": [
    {
     "data": {
      "text/plain": [
       "(array([[1, 2, 4],\n",
       "        [2, 4, 3]]),\n",
       " array([[1, 2],\n",
       "        [4, 2],\n",
       "        [4, 3]]))"
      ]
     },
     "execution_count": 106,
     "metadata": {},
     "output_type": "execute_result"
    }
   ],
   "source": [
    "p, q"
   ]
  },
  {
   "cell_type": "code",
   "execution_count": 107,
   "id": "1920be73-f1e3-4d3c-b37a-7eff02f3fbab",
   "metadata": {},
   "outputs": [
    {
     "data": {
      "text/plain": [
       "(2, 3)"
      ]
     },
     "execution_count": 107,
     "metadata": {},
     "output_type": "execute_result"
    }
   ],
   "source": [
    "p.shape"
   ]
  },
  {
   "cell_type": "code",
   "execution_count": 108,
   "id": "42a0ecb5-ff3c-4809-ac75-98be7363e4a1",
   "metadata": {},
   "outputs": [
    {
     "data": {
      "text/plain": [
       "array([[1, 2],\n",
       "       [4, 2],\n",
       "       [4, 3]])"
      ]
     },
     "execution_count": 108,
     "metadata": {},
     "output_type": "execute_result"
    }
   ],
   "source": [
    "# Convert p to a 3 x 2 array\n",
    "# We can reshape the array into any size, any dimension as long as all the elements fit\n",
    "# Example - 6 elements can fit in 1x6, 6x1, 2x3, 3x2, 1x1x6, 2x3x1 ... so on sizes\n",
    "p.reshape((3, 2))"
   ]
  },
  {
   "cell_type": "code",
   "execution_count": 109,
   "id": "be393bbc-d26e-4055-937b-b535ad3e3275",
   "metadata": {},
   "outputs": [
    {
     "data": {
      "text/plain": [
       "array([[[1, 2, 4],\n",
       "        [2, 4, 3]]])"
      ]
     },
     "execution_count": 109,
     "metadata": {},
     "output_type": "execute_result"
    }
   ],
   "source": [
    "p.reshape((1, 2, 3))"
   ]
  },
  {
   "cell_type": "code",
   "execution_count": 118,
   "id": "7a81f92e-3b0c-492a-9165-e94b92d83ce1",
   "metadata": {},
   "outputs": [
    {
     "data": {
      "text/plain": [
       "array([[1, 2, 4, 5],\n",
       "       [2, 3, 6, 7]])"
      ]
     },
     "execution_count": 118,
     "metadata": {},
     "output_type": "execute_result"
    }
   ],
   "source": [
    "# Vertically stacking vectors\n",
    "# In Vertical stacks, number of columns should always match\n",
    "v1 = np.array([1, 2, 4, 5])\n",
    "v2 = np.array([2, 3, 6, 7])\n",
    "\n",
    "np.vstack((v1, v2))\n"
   ]
  },
  {
   "cell_type": "code",
   "execution_count": 116,
   "id": "f708fd9d-07b3-4b8c-9949-693ec96e3bc3",
   "metadata": {},
   "outputs": [
    {
     "data": {
      "text/plain": [
       "array([[1, 2, 4, 5],\n",
       "       [2, 3, 6, 7],\n",
       "       [1, 2, 4, 5],\n",
       "       [2, 3, 6, 7]])"
      ]
     },
     "execution_count": 116,
     "metadata": {},
     "output_type": "execute_result"
    }
   ],
   "source": [
    "np.vstack((v1, v2, v1, v2))"
   ]
  },
  {
   "cell_type": "code",
   "execution_count": 119,
   "id": "05c291da-5230-4d94-9eb7-6b015808882d",
   "metadata": {},
   "outputs": [
    {
     "data": {
      "text/plain": [
       "(array([[3, 4, 5],\n",
       "        [1, 3, 5]]),\n",
       " array([[5, 3, 8],\n",
       "        [7, 1, 4]]),\n",
       " array([[3, 4, 5],\n",
       "        [1, 3, 5],\n",
       "        [5, 3, 8],\n",
       "        [7, 1, 4]]))"
      ]
     },
     "execution_count": 119,
     "metadata": {},
     "output_type": "execute_result"
    }
   ],
   "source": [
    "v1 = np.array([[3, 4, 5],[1, 3, 5]])\n",
    "v2 = np.array([[5, 3, 8],[7, 1, 4]])\n",
    "v1, v2, np.vstack((v1, v2))\n"
   ]
  },
  {
   "cell_type": "code",
   "execution_count": 120,
   "id": "c14728a2-0c62-49e6-99c8-c8fb055b5be5",
   "metadata": {},
   "outputs": [
    {
     "data": {
      "text/plain": [
       "(array([[1, 2, 4],\n",
       "        [7, 9, 0]]),\n",
       " array([[3, 5],\n",
       "        [8, 2]]),\n",
       " array([[1, 2, 4, 3, 5],\n",
       "        [7, 9, 0, 8, 2]]))"
      ]
     },
     "execution_count": 120,
     "metadata": {},
     "output_type": "execute_result"
    }
   ],
   "source": [
    "# Horizontal stack -\n",
    "# In horizontal stack, the number of rows should match\n",
    "h1 = np.array([[1, 2, 4], [7, 9, 0]])\n",
    "h2 = np.array([[3,5], [8,2]])\n",
    "\n",
    "h1, h2, np.hstack((h1, h2))"
   ]
  },
  {
   "cell_type": "markdown",
   "id": "5d7732ee-2db1-47b9-bb93-b12b746eabb6",
   "metadata": {},
   "source": [
    "### Miscelleneous"
   ]
  },
  {
   "cell_type": "code",
   "execution_count": 138,
   "id": "e3abdbfb-f5ed-4efb-a346-3f3bc1cdcf04",
   "metadata": {},
   "outputs": [
    {
     "name": "stdout",
     "output_type": "stream",
     "text": [
      "31,81,25,51,47,75,80,56\n",
      "4,71,15,92,21,65,63,39\n",
      "7,77,16,92,73,25,19,53\n",
      "13,53,54,96,88,77,51,96\n",
      "80,8,75,83,43,43,95,98\n",
      "12,51,68,67,63,47,75,15\n",
      "70,20,25,7,74,43,74,3\n",
      "\n"
     ]
    }
   ],
   "source": [
    "# Create a file (Doing this so that it can run anywhere and not dependent on a file)\n",
    "import random\n",
    "random.randint(1, 100)\n",
    "data = ''\n",
    "n, m = (7, 8)\n",
    "for i in range(n):\n",
    "    for j in range(m):\n",
    "        data += str(random.randint(1, 100)) + (',' if j<m-1 else '')\n",
    "    data += '\\n'\n",
    "print(data)\n",
    "with open('data.csv', 'w') as file:\n",
    "    file.write(data)"
   ]
  },
  {
   "cell_type": "code",
   "execution_count": 139,
   "id": "b26caead-0859-4d8b-b40a-701e698df84e",
   "metadata": {},
   "outputs": [
    {
     "data": {
      "text/plain": [
       "array([[31., 81., 25., 51., 47., 75., 80., 56.],\n",
       "       [ 4., 71., 15., 92., 21., 65., 63., 39.],\n",
       "       [ 7., 77., 16., 92., 73., 25., 19., 53.],\n",
       "       [13., 53., 54., 96., 88., 77., 51., 96.],\n",
       "       [80.,  8., 75., 83., 43., 43., 95., 98.],\n",
       "       [12., 51., 68., 67., 63., 47., 75., 15.],\n",
       "       [70., 20., 25.,  7., 74., 43., 74.,  3.]])"
      ]
     },
     "execution_count": 139,
     "metadata": {},
     "output_type": "execute_result"
    }
   ],
   "source": [
    "# Reading data from a file and converting to np array\n",
    "filedata = np.genfromtxt('data.csv', delimiter=',')\n",
    "filedata"
   ]
  },
  {
   "cell_type": "code",
   "execution_count": 140,
   "id": "32ef53fa-24b4-4051-977b-d2a13c8dc4c2",
   "metadata": {},
   "outputs": [
    {
     "data": {
      "text/plain": [
       "array([[31, 81, 25, 51, 47, 75, 80, 56],\n",
       "       [ 4, 71, 15, 92, 21, 65, 63, 39],\n",
       "       [ 7, 77, 16, 92, 73, 25, 19, 53],\n",
       "       [13, 53, 54, 96, 88, 77, 51, 96],\n",
       "       [80,  8, 75, 83, 43, 43, 95, 98],\n",
       "       [12, 51, 68, 67, 63, 47, 75, 15],\n",
       "       [70, 20, 25,  7, 74, 43, 74,  3]], dtype=int16)"
      ]
     },
     "execution_count": 140,
     "metadata": {},
     "output_type": "execute_result"
    }
   ],
   "source": [
    "# Changing the datatype\n",
    "filedata.astype('int16')"
   ]
  },
  {
   "cell_type": "code",
   "execution_count": 141,
   "id": "91fb9c98-f083-42f5-8af6-18fb090c2a43",
   "metadata": {},
   "outputs": [],
   "source": [
    "# Advanced indexing"
   ]
  },
  {
   "cell_type": "code",
   "execution_count": 145,
   "id": "1500b704-1833-4737-b645-5ee51c85013d",
   "metadata": {},
   "outputs": [
    {
     "data": {
      "text/plain": [
       "array([[ 4., 71., 15., 92., 21., 65., 63., 39.],\n",
       "       [ 7., 77., 16., 92., 73., 25., 19., 53.],\n",
       "       [12., 51., 68., 67., 63., 47., 75., 15.],\n",
       "       [70., 20., 25.,  7., 74., 43., 74.,  3.]])"
      ]
     },
     "execution_count": 145,
     "metadata": {},
     "output_type": "execute_result"
    }
   ],
   "source": [
    "# We can index the elements using a list\n",
    "# Get the 1st, 2nd, 5th and 6th row from the array\n",
    "filedata[[1, 2, 5, 6]]    # returns the 1,2,5,6 row"
   ]
  },
  {
   "cell_type": "code",
   "execution_count": 182,
   "id": "a2300b7a-551a-4274-973b-19023735befc",
   "metadata": {},
   "outputs": [
    {
     "data": {
      "text/plain": [
       "array([[81., 25., 75., 80.],\n",
       "       [71., 15., 65., 63.],\n",
       "       [77., 16., 25., 19.],\n",
       "       [53., 54., 77., 51.],\n",
       "       [ 8., 75., 43., 95.],\n",
       "       [51., 68., 47., 75.],\n",
       "       [20., 25., 43., 74.]])"
      ]
     },
     "execution_count": 182,
     "metadata": {},
     "output_type": "execute_result"
    }
   ],
   "source": [
    "# Get the 1, 2, 5, 6th columns from the array\n",
    "filedata[:, [1, 2, 5, 6]]"
   ]
  },
  {
   "cell_type": "code",
   "execution_count": 153,
   "id": "c3198e25-fc25-4c37-bbca-f26d91a114c7",
   "metadata": {},
   "outputs": [
    {
     "data": {
      "text/plain": [
       "array([[False,  True, False,  True, False,  True,  True,  True],\n",
       "       [False,  True, False,  True, False,  True,  True, False],\n",
       "       [False,  True, False,  True,  True, False, False,  True],\n",
       "       [False,  True,  True,  True,  True,  True,  True,  True],\n",
       "       [ True, False,  True,  True, False, False,  True,  True],\n",
       "       [False,  True,  True,  True,  True, False,  True, False],\n",
       "       [ True, False, False, False,  True, False,  True, False]])"
      ]
     },
     "execution_count": 153,
     "metadata": {},
     "output_type": "execute_result"
    }
   ],
   "source": [
    "# Boolean matrix where elements > 50\n",
    "filedata > 50"
   ]
  },
  {
   "cell_type": "code",
   "execution_count": 155,
   "id": "536141af-77a2-42ac-a17c-5b3ed898c0c7",
   "metadata": {},
   "outputs": [
    {
     "data": {
      "text/plain": [
       "array([81., 51., 75., 80., 56., 71., 92., 65., 63., 77., 92., 73., 53.,\n",
       "       53., 54., 96., 88., 77., 51., 96., 80., 75., 83., 95., 98., 51.,\n",
       "       68., 67., 63., 75., 70., 74., 74.])"
      ]
     },
     "execution_count": 155,
     "metadata": {},
     "output_type": "execute_result"
    }
   ],
   "source": [
    "#Get the matrix where elements are > 50\n",
    "filedata[filedata>50]"
   ]
  },
  {
   "cell_type": "code",
   "execution_count": 156,
   "id": "f6067d38-1737-4308-b9b9-378a781225b9",
   "metadata": {},
   "outputs": [
    {
     "data": {
      "text/plain": [
       "array([[False, False, False, False, False, False,  True,  True],\n",
       "       [ True, False, False,  True, False, False, False, False],\n",
       "       [False, False,  True,  True, False, False, False, False],\n",
       "       [False, False,  True,  True,  True, False, False,  True],\n",
       "       [ True,  True, False, False, False, False, False,  True],\n",
       "       [ True, False,  True, False, False, False, False, False],\n",
       "       [ True,  True, False, False,  True, False,  True, False]])"
      ]
     },
     "execution_count": 156,
     "metadata": {},
     "output_type": "execute_result"
    }
   ],
   "source": [
    "# If we pass a list or list of list of boolean/0/1 into the array, it will flatten the list using the boolean/0/1 present at those indexes\n",
    "# Get elements which are even\n",
    "filedata%2==0"
   ]
  },
  {
   "cell_type": "code",
   "execution_count": 157,
   "id": "e4a95955-08cc-4a0e-a335-83f30ac514a4",
   "metadata": {},
   "outputs": [
    {
     "data": {
      "text/plain": [
       "array([80., 56.,  4., 92., 16., 92., 54., 96., 88., 96., 80.,  8., 98.,\n",
       "       12., 68., 70., 20., 74., 74.])"
      ]
     },
     "execution_count": 157,
     "metadata": {},
     "output_type": "execute_result"
    }
   ],
   "source": [
    "filedata[filedata%2==0]"
   ]
  },
  {
   "cell_type": "code",
   "execution_count": 167,
   "id": "9be8b196-8b1f-453d-8570-fecdf06b87ed",
   "metadata": {},
   "outputs": [
    {
     "data": {
      "text/plain": [
       "array([[False, False, False, False, False, False,  True,  True],\n",
       "       [ True, False, False,  True, False, False, False, False],\n",
       "       [False, False,  True,  True, False, False, False, False],\n",
       "       [False, False,  True,  True,  True, False, False,  True],\n",
       "       [ True,  True, False, False, False, False, False,  True],\n",
       "       [ True, False,  True, False, False, False, False, False],\n",
       "       [ True,  True, False, False,  True, False,  True, False]])"
      ]
     },
     "execution_count": 167,
     "metadata": {},
     "output_type": "execute_result"
    }
   ],
   "source": [
    "filedata%2==0"
   ]
  },
  {
   "cell_type": "code",
   "execution_count": 168,
   "id": "d47f48e8-afcd-4a06-8252-b3e9e748248b",
   "metadata": {},
   "outputs": [
    {
     "data": {
      "text/plain": [
       "array([[ 0.,  0.,  0.,  0.,  0.,  0., 80., 56.],\n",
       "       [ 4.,  0.,  0., 92.,  0.,  0.,  0.,  0.],\n",
       "       [ 0.,  0., 16., 92.,  0.,  0.,  0.,  0.],\n",
       "       [ 0.,  0., 54., 96., 88.,  0.,  0., 96.],\n",
       "       [80.,  8.,  0.,  0.,  0.,  0.,  0., 98.],\n",
       "       [12.,  0., 68.,  0.,  0.,  0.,  0.,  0.],\n",
       "       [70., 20.,  0.,  0., 74.,  0., 74.,  0.]])"
      ]
     },
     "execution_count": 168,
     "metadata": {},
     "output_type": "execute_result"
    }
   ],
   "source": [
    "filedata * (filedata%2==0)   ## Puts 0 where this condition is false"
   ]
  },
  {
   "cell_type": "code",
   "execution_count": 172,
   "id": "7ff3587c-df7c-4715-be46-60197a906f26",
   "metadata": {},
   "outputs": [
    {
     "data": {
      "text/plain": [
       "array([[False,  True, False,  True, False,  True,  True,  True],\n",
       "       [False,  True, False,  True, False,  True,  True, False],\n",
       "       [False,  True, False,  True,  True, False, False,  True],\n",
       "       [False,  True,  True,  True,  True,  True,  True,  True],\n",
       "       [ True, False,  True,  True, False, False,  True,  True],\n",
       "       [False,  True,  True,  True,  True, False,  True, False],\n",
       "       [ True, False, False, False,  True, False,  True, False]])"
      ]
     },
     "execution_count": 172,
     "metadata": {},
     "output_type": "execute_result"
    }
   ],
   "source": [
    "((filedata > 50) & (filedata < 100))"
   ]
  },
  {
   "cell_type": "code",
   "execution_count": 173,
   "id": "1ef9489b-0cb5-45aa-b100-63ea7a3d6be6",
   "metadata": {},
   "outputs": [
    {
     "data": {
      "text/plain": [
       "array([[ 0., 81.,  0., 51.,  0., 75., 80., 56.],\n",
       "       [ 0., 71.,  0., 92.,  0., 65., 63.,  0.],\n",
       "       [ 0., 77.,  0., 92., 73.,  0.,  0., 53.],\n",
       "       [ 0., 53., 54., 96., 88., 77., 51., 96.],\n",
       "       [80.,  0., 75., 83.,  0.,  0., 95., 98.],\n",
       "       [ 0., 51., 68., 67., 63.,  0., 75.,  0.],\n",
       "       [70.,  0.,  0.,  0., 74.,  0., 74.,  0.]])"
      ]
     },
     "execution_count": 173,
     "metadata": {},
     "output_type": "execute_result"
    }
   ],
   "source": [
    "filedata * ((filedata > 50) & (filedata < 100))"
   ]
  },
  {
   "cell_type": "code",
   "execution_count": 174,
   "id": "ef310c6d-e640-4395-af4e-cd790379c5e5",
   "metadata": {},
   "outputs": [
    {
     "data": {
      "text/plain": [
       "False"
      ]
     },
     "execution_count": 174,
     "metadata": {},
     "output_type": "execute_result"
    }
   ],
   "source": [
    "# Checking if a condtion is true in any or all elements\n",
    "# Check if all elements are odd\n",
    "np.all(filedata % 2 == 0)"
   ]
  },
  {
   "cell_type": "code",
   "execution_count": 176,
   "id": "20df00f6-c267-4960-aebf-f35c0972d41c",
   "metadata": {},
   "outputs": [
    {
     "data": {
      "text/plain": [
       "True"
      ]
     },
     "execution_count": 176,
     "metadata": {},
     "output_type": "execute_result"
    }
   ],
   "source": [
    "# All elements less than 100?\n",
    "np.all(filedata < 100)"
   ]
  },
  {
   "cell_type": "code",
   "execution_count": 177,
   "id": "080d33a7-614c-4168-997c-f3b334b2bb9f",
   "metadata": {},
   "outputs": [
    {
     "data": {
      "text/plain": [
       "True"
      ]
     },
     "execution_count": 177,
     "metadata": {},
     "output_type": "execute_result"
    }
   ],
   "source": [
    "# Any element is divisible by 3?\n",
    "np.any(filedata % 3 == 0)"
   ]
  },
  {
   "cell_type": "code",
   "execution_count": 196,
   "id": "d9abd836-3d7f-495b-9a01-cd11bd26bed1",
   "metadata": {},
   "outputs": [
    {
     "data": {
      "text/plain": [
       "array([], dtype=float64)"
      ]
     },
     "execution_count": 196,
     "metadata": {},
     "output_type": "execute_result"
    }
   ],
   "source": [
    "#creating the diagonal matrix\n",
    "temp = filedata[:5, :5].copy()\n",
    "mask = [list([False for i in range(5)]) for i in range(5)]\n",
    "for i in range(5):\n",
    "    for j in range(5):\n",
    "        if i==j:\n",
    "            mask[i][j] = True\n",
    "mask = [list([False for i in range(5)]) for i in range(5)]\n",
    "temp[mask]   # returns the array with the diagonal elements\n"
   ]
  },
  {
   "cell_type": "code",
   "execution_count": 192,
   "id": "765a764e-d8c5-42d0-afdc-e17c0f99d94d",
   "metadata": {},
   "outputs": [
    {
     "data": {
      "text/plain": [
       "array([[31.,  0.,  0.,  0.,  0.],\n",
       "       [ 0., 71.,  0.,  0.,  0.],\n",
       "       [ 0.,  0., 16.,  0.,  0.],\n",
       "       [ 0.,  0.,  0., 96.,  0.],\n",
       "       [ 0.,  0.,  0.,  0., 43.]])"
      ]
     },
     "execution_count": 192,
     "metadata": {},
     "output_type": "execute_result"
    }
   ],
   "source": [
    "temp * mask    # Returns the masked array"
   ]
  },
  {
   "cell_type": "code",
   "execution_count": null,
   "id": "40d62f52-1120-4cb4-babd-e61db11e3a49",
   "metadata": {},
   "outputs": [],
   "source": []
  },
  {
   "cell_type": "code",
   "execution_count": null,
   "id": "1d74e625-07aa-48fe-8009-97864c021e35",
   "metadata": {},
   "outputs": [],
   "source": []
  }
 ],
 "metadata": {
  "kernelspec": {
   "display_name": "Python 3 (ipykernel)",
   "language": "python",
   "name": "python3"
  },
  "language_info": {
   "codemirror_mode": {
    "name": "ipython",
    "version": 3
   },
   "file_extension": ".py",
   "mimetype": "text/x-python",
   "name": "python",
   "nbconvert_exporter": "python",
   "pygments_lexer": "ipython3",
   "version": "3.12.0"
  }
 },
 "nbformat": 4,
 "nbformat_minor": 5
}
